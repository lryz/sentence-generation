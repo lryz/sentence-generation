{
 "cells": [
  {
   "cell_type": "code",
   "execution_count": 1,
   "id": "771e1556-49dc-4d64-b026-bf2314d5275d",
   "metadata": {},
   "outputs": [],
   "source": [
    "import ressources\n"
   ]
  },
  {
   "cell_type": "code",
   "execution_count": 2,
   "id": "a2c5b7cf-4812-46e9-a78d-54d85d27a6fe",
   "metadata": {},
   "outputs": [
    {
     "name": "stdout",
     "output_type": "stream",
     "text": [
      "Generating semantic types dict...\n"
     ]
    },
    {
     "data": {
      "application/vnd.jupyter.widget-view+json": {
       "model_id": "5a239d4bc24a4f6ebbd3a08a627c47a6",
       "version_major": 2,
       "version_minor": 0
      },
      "text/plain": [
       "  0%|          | 0/4571016 [00:00<?, ?it/s]"
      ]
     },
     "metadata": {},
     "output_type": "display_data"
    },
    {
     "name": "stdout",
     "output_type": "stream",
     "text": [
      "./pyner/brat_files/quaero_brat/train/EMEA/345_2.ann\n",
      "./pyner/brat_files/quaero_brat/train/EMEA/425_1.ann\n",
      "./pyner/brat_files/quaero_brat/train/EMEA/425_4.ann\n",
      "./pyner/brat_files/quaero_brat/train/EMEA/318.ann\n"
     ]
    }
   ],
   "source": [
    "path_to_umls = './mydatasets/resources/umls/2019AB/MRSTY.RRF'\n",
    "styDict, styGroupsDict, cuiInSty, cuiInStyGroups = ressources.create_semantic_type_dict(path_to_umls)\n",
    "path = './pyner/brat_files/quaero_brat/train/EMEA/'\n",
    "synDict, styDict, styGroupsDict = ressources.create_from_brat(path, styDict, styGroupsDict)\n",
    "allWordsDict = ressources.create_all_words_dict(synDict, styGroupsDict)"
   ]
  },
  {
   "cell_type": "code",
   "execution_count": 3,
   "id": "e42d8984-8033-4024-af24-e751c185341e",
   "metadata": {},
   "outputs": [
    {
     "data": {
      "application/vnd.jupyter.widget-view+json": {
       "model_id": "20c26381715c47f98be8e98b749d605d",
       "version_major": 2,
       "version_minor": 0
      },
      "text/plain": [
       "  0%|          | 0/25448 [00:00<?, ?it/s]"
      ]
     },
     "metadata": {},
     "output_type": "display_data"
    }
   ],
   "source": [
    "data_path = './quaero/all_sentences.txt'\n",
    "data = ressources.markov_data_pretreatment(data_path)\n",
    "text_dict_fw, text_dict_bw = ressources.markov_chain(data)"
   ]
  },
  {
   "cell_type": "code",
   "execution_count": 4,
   "id": "25022529-cc61-4f51-85d0-5ce762ea4c8c",
   "metadata": {},
   "outputs": [
    {
     "data": {
      "application/vnd.jupyter.widget-view+json": {
       "model_id": "9189e33d89754cf99b82b9ed86d55db1",
       "version_major": 2,
       "version_minor": 0
      },
      "text/plain": [
       "  0%|          | 0/652 [00:00<?, ?it/s]"
      ]
     },
     "metadata": {},
     "output_type": "display_data"
    },
    {
     "name": "stdout",
     "output_type": "stream",
     "text": [
      "1850 mots ont une phrase\n"
     ]
    },
    {
     "data": {
      "application/vnd.jupyter.widget-view+json": {
       "model_id": "24f32c36ead445519f15a07a23cd5311",
       "version_major": 2,
       "version_minor": 0
      },
      "text/plain": [
       "  0%|          | 0/652 [00:00<?, ?it/s]"
      ]
     },
     "metadata": {},
     "output_type": "display_data"
    }
   ],
   "source": [
    "markovSentences = ressources.create_markov_sentences(text_dict_fw, text_dict_bw, synDict)\n",
    "markovSentences = ressources.postTreatment2(markovSentences, cuiInSty)\n",
    "simpleSentences = ressources.create_simple_sentences(synDict, styDict)\n",
    "singleWords     = ressources.create_single_words(synDict)\n",
    "#BERTdict       = ressources.camembert_create_all_sentences(\"camembert-base\", synDict)#slowest one"
   ]
  },
  {
   "cell_type": "code",
   "execution_count": 5,
   "id": "4b07b391-027d-4ecf-a6b4-36f579b6ed87",
   "metadata": {},
   "outputs": [],
   "source": [
    "\n",
    "markov_sentences, words_for_training  = ressources.prepare_sentences(markovSentences, synDict)\n",
    "simple_sentences, words_for_training2 = ressources.prepare_sentences(simpleSentences, synDict)\n",
    "single_words    , words_for_training3 = ressources.prepare_sentences(singleWords, synDict)\n",
    "#bert_sentences  , words_for_training4 = ressources.prepare_sentences(BERTdict, synDict)"
   ]
  },
  {
   "cell_type": "code",
   "execution_count": 6,
   "id": "79db4fc8-c218-4467-8a01-d8df3b351be8",
   "metadata": {},
   "outputs": [
    {
     "data": {
      "application/vnd.jupyter.widget-view+json": {
       "model_id": "a4e2648bb2f040c0b396a61aef77c2f6",
       "version_major": 2,
       "version_minor": 0
      },
      "text/plain": [
       "  0%|          | 0/53 [00:00<?, ?it/s]"
      ]
     },
     "metadata": {},
     "output_type": "display_data"
    }
   ],
   "source": [
    "path = \"./pyner/brat_files/markov_sentence/\"\n",
    "ressources.delete_all_files_in_folder(path)\n",
    "ressources.create_annotated_files(markov_sentences, path, words_for_training, allWordsDict, styGroupsDict, nested=\"partial\")"
   ]
  },
  {
   "cell_type": "code",
   "execution_count": 7,
   "id": "f45b8cde-d4b3-441b-8b7c-49055d05de8d",
   "metadata": {},
   "outputs": [
    {
     "data": {
      "application/vnd.jupyter.widget-view+json": {
       "model_id": "e721a49061b243f7930495d2f1db6f67",
       "version_major": 2,
       "version_minor": 0
      },
      "text/plain": [
       "  0%|          | 0/52 [00:00<?, ?it/s]"
      ]
     },
     "metadata": {},
     "output_type": "display_data"
    }
   ],
   "source": [
    "path = \"./pyner/brat_files/simple_sentence/\"\n",
    "ressources.delete_all_files_in_folder(path)\n",
    "ressources.create_annotated_files(simple_sentences, path, words_for_training2, allWordsDict, styGroupsDict)"
   ]
  },
  {
   "cell_type": "code",
   "execution_count": 8,
   "id": "39ed6a52-91a4-4a5e-be50-7a002f0383c7",
   "metadata": {},
   "outputs": [
    {
     "data": {
      "application/vnd.jupyter.widget-view+json": {
       "model_id": "236f5cb0a98e40c689deb5c8c8d064b0",
       "version_major": 2,
       "version_minor": 0
      },
      "text/plain": [
       "  0%|          | 0/52 [00:00<?, ?it/s]"
      ]
     },
     "metadata": {},
     "output_type": "display_data"
    }
   ],
   "source": [
    "path = \"./pyner/brat_files/single_word/\"\n",
    "ressources.delete_all_files_in_folder(path)\n",
    "ressources.create_annotated_files(single_words, path, words_for_training3, allWordsDict, styGroupsDict)"
   ]
  },
  {
   "cell_type": "code",
   "execution_count": 10,
   "id": "0167a643-c0d2-4662-96ae-091bd313c0e2",
   "metadata": {},
   "outputs": [
    {
     "ename": "NameError",
     "evalue": "name 'bert_sentences' is not defined",
     "output_type": "error",
     "traceback": [
      "\u001b[0;31m---------------------------------------------------------------------------\u001b[0m",
      "\u001b[0;31mNameError\u001b[0m                                 Traceback (most recent call last)",
      "\u001b[0;32m/tmp/ipykernel_191117/955473358.py\u001b[0m in \u001b[0;36m<module>\u001b[0;34m\u001b[0m\n\u001b[1;32m      1\u001b[0m \u001b[0mpath\u001b[0m \u001b[0;34m=\u001b[0m \u001b[0;34m\"./pyner/brat_files/BERT_sentence/\"\u001b[0m\u001b[0;34m\u001b[0m\u001b[0;34m\u001b[0m\u001b[0m\n\u001b[1;32m      2\u001b[0m \u001b[0mressources\u001b[0m\u001b[0;34m.\u001b[0m\u001b[0mdelete_all_files_in_folder\u001b[0m\u001b[0;34m(\u001b[0m\u001b[0mpath\u001b[0m\u001b[0;34m)\u001b[0m\u001b[0;34m\u001b[0m\u001b[0;34m\u001b[0m\u001b[0m\n\u001b[0;32m----> 3\u001b[0;31m \u001b[0mressources\u001b[0m\u001b[0;34m.\u001b[0m\u001b[0mcreate_annotated_files\u001b[0m\u001b[0;34m(\u001b[0m\u001b[0mbert_sentences\u001b[0m\u001b[0;34m,\u001b[0m \u001b[0mpath\u001b[0m\u001b[0;34m,\u001b[0m \u001b[0mwords_for_training4\u001b[0m\u001b[0;34m,\u001b[0m \u001b[0mallWordsDict\u001b[0m\u001b[0;34m,\u001b[0m \u001b[0mstyGroupsDict\u001b[0m\u001b[0;34m)\u001b[0m\u001b[0;34m\u001b[0m\u001b[0;34m\u001b[0m\u001b[0m\n\u001b[0m",
      "\u001b[0;31mNameError\u001b[0m: name 'bert_sentences' is not defined"
     ]
    }
   ],
   "source": [
    "path = \"./pyner/brat_files/BERT_sentence/\"\n",
    "ressources.delete_all_files_in_folder(path)\n",
    "ressources.create_annotated_files(bert_sentences, path, words_for_training4, allWordsDict, styGroupsDict)"
   ]
  },
  {
   "cell_type": "code",
   "execution_count": null,
   "id": "a51a14e9",
   "metadata": {},
   "outputs": [],
   "source": []
  }
 ],
 "metadata": {
  "kernelspec": {
   "display_name": "Python 3 (ipykernel)",
   "language": "python",
   "name": "python3"
  },
  "language_info": {
   "codemirror_mode": {
    "name": "ipython",
    "version": 3
   },
   "file_extension": ".py",
   "mimetype": "text/x-python",
   "name": "python",
   "nbconvert_exporter": "python",
   "pygments_lexer": "ipython3",
   "version": "3.9.6"
  }
 },
 "nbformat": 4,
 "nbformat_minor": 5
}
