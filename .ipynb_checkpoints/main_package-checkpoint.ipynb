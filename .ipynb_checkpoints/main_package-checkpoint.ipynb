{
 "cells": [
  {
   "cell_type": "code",
   "execution_count": 3,
   "id": "771e1556-49dc-4d64-b026-bf2314d5275d",
   "metadata": {},
   "outputs": [],
   "source": [
    "import ressources\n"
   ]
  },
  {
   "cell_type": "code",
   "execution_count": 4,
   "id": "a2c5b7cf-4812-46e9-a78d-54d85d27a6fe",
   "metadata": {},
   "outputs": [
    {
     "name": "stdout",
     "output_type": "stream",
     "text": [
      "Generating semantic types dict...\n"
     ]
    },
    {
     "data": {
      "application/vnd.jupyter.widget-view+json": {
       "model_id": "a619ed208ce2468a9817def7096e1ad0",
       "version_major": 2,
       "version_minor": 0
      },
      "text/plain": [
       "  0%|          | 0/4571016 [00:00<?, ?it/s]"
      ]
     },
     "metadata": {},
     "output_type": "display_data"
    },
    {
     "name": "stdout",
     "output_type": "stream",
     "text": [
      "../pyner/brat_files/quaero_brat/train/MEDLINE/8087214.ann\n",
      "../pyner/brat_files/quaero_brat/train/MEDLINE/13329519.ann\n"
     ]
    }
   ],
   "source": [
    "path_to_umls = '../mydatasets/resources/umls/2019AB/MRSTY.RRF'\n",
    "styDict, styGroupsDict, cuiInSty, cuiInStyGroups = ressources.create_semantic_type_dict(path_to_umls)\n",
    "path = '../pyner/brat_files/quaero_brat/train/MEDLINE/'\n",
    "synDict, styDict, styGroupsDict = ressources.create_from_brat(path, styDict, styGroupsDict)\n",
    "allWordsDict = ressources.create_all_words_dict(synDict, styGroupsDict)"
   ]
  },
  {
   "cell_type": "code",
   "execution_count": 7,
   "id": "e42d8984-8033-4024-af24-e751c185341e",
   "metadata": {},
   "outputs": [
    {
     "ename": "AttributeError",
     "evalue": "module 'ressources' has no attribute 'create_one_txt_from_brat'",
     "output_type": "error",
     "traceback": [
      "\u001b[0;31m---------------------------------------------------------------------------\u001b[0m",
      "\u001b[0;31mAttributeError\u001b[0m                            Traceback (most recent call last)",
      "\u001b[0;32m/tmp/ipykernel_211025/2337446761.py\u001b[0m in \u001b[0;36m<module>\u001b[0;34m\u001b[0m\n\u001b[1;32m      1\u001b[0m \u001b[0mdata_path\u001b[0m \u001b[0;34m=\u001b[0m \u001b[0;34m'../quaero/all_sentences_medline.txt'\u001b[0m\u001b[0;34m\u001b[0m\u001b[0;34m\u001b[0m\u001b[0m\n\u001b[0;32m----> 2\u001b[0;31m \u001b[0mressources\u001b[0m\u001b[0;34m.\u001b[0m\u001b[0mcreate_one_txt_from_brat\u001b[0m\u001b[0;34m(\u001b[0m\u001b[0mpath\u001b[0m\u001b[0;34m,\u001b[0m \u001b[0mdata_path\u001b[0m\u001b[0;34m)\u001b[0m\u001b[0;34m\u001b[0m\u001b[0;34m\u001b[0m\u001b[0m\n\u001b[0m\u001b[1;32m      3\u001b[0m \u001b[0mdata\u001b[0m \u001b[0;34m=\u001b[0m \u001b[0mressources\u001b[0m\u001b[0;34m.\u001b[0m\u001b[0mmarkov_data_pretreatment\u001b[0m\u001b[0;34m(\u001b[0m\u001b[0mdata_path\u001b[0m\u001b[0;34m)\u001b[0m\u001b[0;34m\u001b[0m\u001b[0;34m\u001b[0m\u001b[0m\n\u001b[1;32m      4\u001b[0m \u001b[0mtext_dict_fw\u001b[0m\u001b[0;34m,\u001b[0m \u001b[0mtext_dict_bw\u001b[0m \u001b[0;34m=\u001b[0m \u001b[0mressources\u001b[0m\u001b[0;34m.\u001b[0m\u001b[0mmarkov_chain\u001b[0m\u001b[0;34m(\u001b[0m\u001b[0mdata\u001b[0m\u001b[0;34m)\u001b[0m\u001b[0;34m\u001b[0m\u001b[0;34m\u001b[0m\u001b[0m\n",
      "\u001b[0;31mAttributeError\u001b[0m: module 'ressources' has no attribute 'create_one_txt_from_brat'"
     ]
    }
   ],
   "source": [
    "\n",
    "data_path = '../quaero/all_sentences_medline.txt'\n",
    "ressources.create_one_txt_from_brat(path, data_path)\n",
    "data = ressources.markov_data_pretreatment(data_path)\n",
    "text_dict_fw, text_dict_bw = ressources.markov_chain(data)"
   ]
  },
  {
   "cell_type": "code",
   "execution_count": null,
   "id": "25022529-cc61-4f51-85d0-5ce762ea4c8c",
   "metadata": {},
   "outputs": [],
   "source": [
    "markovSentences = ressources.create_markov_sentences(text_dict_fw, text_dict_bw, synDict)\n",
    "markovSentences = ressources.postTreatment2(markovSentences, cuiInSty)\n",
    "simpleSentences = ressources.create_simple_sentences(synDict, styDict)\n",
    "singleWords     = ressources.create_single_words(synDict)\n",
    "#BERTdict       = ressources.camembert_create_all_sentences(\"camembert-base\", synDict)#slowest one"
   ]
  },
  {
   "cell_type": "code",
   "execution_count": null,
   "id": "4b07b391-027d-4ecf-a6b4-36f579b6ed87",
   "metadata": {},
   "outputs": [],
   "source": [
    "\n",
    "markov_sentences, words_for_training  = ressources.prepare_sentences(markovSentences, synDict)\n",
    "simple_sentences, words_for_training2 = ressources.prepare_sentences(simpleSentences, synDict)\n",
    "single_words    , words_for_training3 = ressources.prepare_sentences(singleWords, synDict)\n",
    "#bert_sentences  , words_for_training4 = ressources.prepare_sentences(BERTdict, synDict)"
   ]
  },
  {
   "cell_type": "code",
   "execution_count": null,
   "id": "79db4fc8-c218-4467-8a01-d8df3b351be8",
   "metadata": {},
   "outputs": [],
   "source": [
    "path = \"../pyner/brat_files/markov_sentence/\"\n",
    "ressources.delete_all_files_in_folder(path)\n",
    "ressources.create_annotated_files(markov_sentences, path, words_for_training, allWordsDict, styGroupsDict, nested=\"partial\")"
   ]
  },
  {
   "cell_type": "code",
   "execution_count": null,
   "id": "f45b8cde-d4b3-441b-8b7c-49055d05de8d",
   "metadata": {},
   "outputs": [],
   "source": [
    "path = \"../pyner/brat_files/simple_sentence/\"\n",
    "ressources.delete_all_files_in_folder(path)\n",
    "ressources.create_annotated_files(simple_sentences, path, words_for_training2, allWordsDict, styGroupsDict)"
   ]
  },
  {
   "cell_type": "code",
   "execution_count": null,
   "id": "39ed6a52-91a4-4a5e-be50-7a002f0383c7",
   "metadata": {},
   "outputs": [],
   "source": [
    "path = \"../pyner/brat_files/single_word/\"\n",
    "ressources.delete_all_files_in_folder(path)\n",
    "ressources.create_annotated_files(single_words, path, words_for_training3, allWordsDict, styGroupsDict)"
   ]
  },
  {
   "cell_type": "code",
   "execution_count": null,
   "id": "0167a643-c0d2-4662-96ae-091bd313c0e2",
   "metadata": {},
   "outputs": [],
   "source": [
    "path = \"./pyner/brat_files/BERT_sentence/\"\n",
    "ressources.delete_all_files_in_folder(path)\n",
    "ressources.create_annotated_files(bert_sentences, path, words_for_training4, allWordsDict, styGroupsDict)"
   ]
  },
  {
   "cell_type": "code",
   "execution_count": null,
   "id": "a51a14e9",
   "metadata": {},
   "outputs": [],
   "source": []
  }
 ],
 "metadata": {
  "kernelspec": {
   "display_name": "Python 3 (ipykernel)",
   "language": "python",
   "name": "python3"
  },
  "language_info": {
   "codemirror_mode": {
    "name": "ipython",
    "version": 3
   },
   "file_extension": ".py",
   "mimetype": "text/x-python",
   "name": "python",
   "nbconvert_exporter": "python",
   "pygments_lexer": "ipython3",
   "version": "3.9.6"
  }
 },
 "nbformat": 4,
 "nbformat_minor": 5
}
